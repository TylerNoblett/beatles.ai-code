{
 "cells": [
  {
   "cell_type": "markdown",
   "metadata": {},
   "source": [
    "# The Beatles"
   ]
  },
  {
   "cell_type": "code",
   "execution_count": 3,
   "metadata": {},
   "outputs": [],
   "source": [
    "%reload_ext autoreload\n",
    "%autoreload 2\n",
    "%matplotlib inline"
   ]
  },
  {
   "cell_type": "code",
   "execution_count": 4,
   "metadata": {},
   "outputs": [],
   "source": [
    "import json\n",
    "import random\n",
    "import shlex"
   ]
  },
  {
   "cell_type": "code",
   "execution_count": 5,
   "metadata": {},
   "outputs": [],
   "source": [
    "from fastai.text import *"
   ]
  },
  {
   "cell_type": "code",
   "execution_count": 6,
   "metadata": {},
   "outputs": [],
   "source": [
    "from pathlib import PosixPath"
   ]
  },
  {
   "cell_type": "code",
   "execution_count": 32,
   "metadata": {},
   "outputs": [],
   "source": [
    "bs=48"
   ]
  },
  {
   "cell_type": "code",
   "execution_count": 8,
   "metadata": {},
   "outputs": [
    {
     "data": {
      "text/plain": [
       "[PosixPath('/home/ubuntu/course-v3/nbs/dl1/data/beatles/random-train'),\n",
       " PosixPath('/home/ubuntu/course-v3/nbs/dl1/data/beatles/valid-lyrics'),\n",
       " PosixPath('/home/ubuntu/course-v3/nbs/dl1/data/beatles/train-lyrics3'),\n",
       " PosixPath('/home/ubuntu/course-v3/nbs/dl1/data/beatles/train-lyrics2'),\n",
       " PosixPath('/home/ubuntu/course-v3/nbs/dl1/data/beatles/export.pkl'),\n",
       " PosixPath('/home/ubuntu/course-v3/nbs/dl1/data/beatles/data_lm_lyrics.pkl'),\n",
       " PosixPath('/home/ubuntu/course-v3/nbs/dl1/data/beatles/data.pkl'),\n",
       " PosixPath('/home/ubuntu/course-v3/nbs/dl1/data/beatles/train'),\n",
       " PosixPath('/home/ubuntu/course-v3/nbs/dl1/data/beatles/train-lyrics'),\n",
       " PosixPath('/home/ubuntu/course-v3/nbs/dl1/data/beatles/models'),\n",
       " PosixPath('/home/ubuntu/course-v3/nbs/dl1/data/beatles/lyrics.pkl'),\n",
       " PosixPath('/home/ubuntu/course-v3/nbs/dl1/data/beatles/.ipynb_checkpoints'),\n",
       " PosixPath('/home/ubuntu/course-v3/nbs/dl1/data/beatles/music.pkl'),\n",
       " PosixPath('/home/ubuntu/course-v3/nbs/dl1/data/beatles/data_lm.pkl'),\n",
       " PosixPath('/home/ubuntu/course-v3/nbs/dl1/data/beatles/train-lyrics-one-file')]"
      ]
     },
     "execution_count": 8,
     "metadata": {},
     "output_type": "execute_result"
    }
   ],
   "source": [
    "path = PosixPath('/home/ubuntu/course-v3/nbs/dl1/data/beatles')\n",
    "path.ls()"
   ]
  },
  {
   "cell_type": "code",
   "execution_count": 45,
   "metadata": {},
   "outputs": [],
   "source": [
    "data_lm_lyrics = (TextList.from_folder(path)\n",
    "           #Inputs: all the text files in path\n",
    "            .filter_by_folder(include=['train-lyrics3']) \n",
    "           #We may have other temp folders that contain text files so we only keep what's in train\n",
    "            .split_by_rand_pct(0.2)\n",
    "#             .split_by_folder(\"train-lyrics\", \"valid-lyrics\")\n",
    "            #.split_none()\n",
    "           #We randomly split and keep 10% (10,000 reviews) for validation\n",
    "            .label_for_lm()           \n",
    "           #We want to do a language model so we label accordingly\n",
    "            .databunch(bs=bs))\n",
    "data_lm_lyrics.save('data_lm_lyrics.pkl')"
   ]
  },
  {
   "cell_type": "code",
   "execution_count": 46,
   "metadata": {},
   "outputs": [],
   "source": [
    "data_lm_lyrics = load_data(path, 'data_lm_lyrics.pkl', bs=bs)"
   ]
  },
  {
   "cell_type": "code",
   "execution_count": 47,
   "metadata": {},
   "outputs": [
    {
     "data": {
      "text/html": [
       "<table border=\"1\" class=\"dataframe\">\n",
       "  <thead>\n",
       "    <tr style=\"text-align: right;\">\n",
       "      <th>idx</th>\n",
       "      <th>text</th>\n",
       "    </tr>\n",
       "  </thead>\n",
       "  <tbody>\n",
       "    <tr>\n",
       "      <td>0</td>\n",
       "      <td>do n't let me down xxmaj do n't let me down xxmaj do n't let me down i 'm in love for the first time xxmaj do n't you know it 's going to last xxmaj it 's a love that xxunk forever xxmaj it 's a love that has no past xxmaj do n't let me down xxmaj do n't let me down xxmaj do n't let me down</td>\n",
       "    </tr>\n",
       "    <tr>\n",
       "      <td>1</td>\n",
       "      <td>xxunk died in the xxunk and was xxunk along with her name . xxmaj nobody came . xxmaj father xxunk , xxunk the dirt from his hands as he xxunk from the xxunk . xxmaj no - one was xxunk . xxmaj all the lonely people , where do they all come from ? xxmaj all the lonely people , where do they all belong ? xxmaj oh yeah alright</td>\n",
       "    </tr>\n",
       "    <tr>\n",
       "      <td>2</td>\n",
       "      <td>going down xxmaj and the eyes in his head see the world spinning round . xxmaj well on the way , head in a cloud , xxmaj the man of a thousand voices talking xxunk xxunk . xxmaj but nobody ever xxunk him xxmaj or the sound he xxunk to make xxmaj and he never seems to notice . xxmaj but the fool on the hill sees the sun going</td>\n",
       "    </tr>\n",
       "    <tr>\n",
       "      <td>3</td>\n",
       "      <td>. xxmaj go home xxmaj get back , get back . xxmaj back to where you once belonged xxmaj get back , get back . xxmaj back to where you once belonged . xxmaj get back xxmaj xxunk . xxmaj sweet xxmaj loretta xxmaj xxunk thought she was a woman xxmaj but she was another man xxmaj all the girls around her say she 's got it coming xxmaj but</td>\n",
       "    </tr>\n",
       "    <tr>\n",
       "      <td>4</td>\n",
       "      <td>mind , xxmaj shine , the weather 's fine . i can show you that when it starts to rain , xxmaj everything 's the same , i can show you , i can show you . xxmaj rain , i do n't mind , xxmaj shine , the weather 's fine . xxmaj can you hear me that when it xxunk and shines , xxmaj it 's just a</td>\n",
       "    </tr>\n",
       "  </tbody>\n",
       "</table>"
      ],
      "text/plain": [
       "<IPython.core.display.HTML object>"
      ]
     },
     "metadata": {},
     "output_type": "display_data"
    }
   ],
   "source": [
    "data_lm_lyrics.show_batch()"
   ]
  },
  {
   "cell_type": "markdown",
   "metadata": {},
   "source": [
    "We can then put this in a learner object very easily with a model loaded with the pretrained weights. They'll be downloaded the first time you'll execute the following line and stored in `~/.fastai/models/` (or elsewhere if you specified different paths in your config file)."
   ]
  },
  {
   "cell_type": "code",
   "execution_count": 57,
   "metadata": {},
   "outputs": [],
   "source": [
    "learn_lyrics = language_model_learner(data_lm_lyrics, AWD_LSTM, drop_mult=0.3)"
   ]
  },
  {
   "cell_type": "code",
   "execution_count": 58,
   "metadata": {},
   "outputs": [
    {
     "data": {
      "text/html": [],
      "text/plain": [
       "<IPython.core.display.HTML object>"
      ]
     },
     "metadata": {},
     "output_type": "display_data"
    },
    {
     "name": "stdout",
     "output_type": "stream",
     "text": [
      "LR Finder is complete, type {learner_name}.recorder.plot() to see the graph.\n"
     ]
    }
   ],
   "source": [
    "learn_lyrics.lr_find()"
   ]
  },
  {
   "cell_type": "code",
   "execution_count": 59,
   "metadata": {},
   "outputs": [
    {
     "data": {
      "image/png": "[encoded data removed]",
      "text/plain": [
       "<Figure size 432x288 with 1 Axes>"
      ]
     },
     "metadata": {
      "needs_background": "light"
     },
     "output_type": "display_data"
    }
   ],
   "source": [
    "learn_lyrics.recorder.plot(skip_end=15)"
   ]
  },
  {
   "cell_type": "code",
   "execution_count": 60,
   "metadata": {},
   "outputs": [
    {
     "data": {
      "text/html": [
       "Total time: 00:02 <p><table style='width:375px; margin-bottom:10px'>\n",
       "  <tr>\n",
       "    <th>epoch</th>\n",
       "    <th>train_loss</th>\n",
       "    <th>valid_loss</th>\n",
       "    <th>accuracy</th>\n",
       "    <th>time</th>\n",
       "  </tr>\n",
       "  <tr>\n",
       "    <th>0</th>\n",
       "    <th>3.928599</th>\n",
       "    <th>3.641764</th>\n",
       "    <th>0.263244</th>\n",
       "    <th>00:02</th>\n",
       "  </tr>\n",
       "</table>\n"
      ],
      "text/plain": [
       "<IPython.core.display.HTML object>"
      ]
     },
     "metadata": {},
     "output_type": "display_data"
    }
   ],
   "source": [
    "learn_lyrics.fit_one_cycle(1, 1e-01, moms=(0.6,0.5))"
   ]
  },
  {
   "cell_type": "code",
   "execution_count": 61,
   "metadata": {},
   "outputs": [
    {
     "data": {
      "text/plain": [
       "array([array([  2,   5,  34,  59, ..., 108,  57,  89,  11]), array([  2,  12,  95, 247, ...,  39,   9,  39,  11])],\n",
       "      dtype=object)"
      ]
     },
     "execution_count": 61,
     "metadata": {},
     "output_type": "execute_result"
    }
   ],
   "source": [
    "data_lm_lyrics.valid_ds.items"
   ]
  },
  {
   "cell_type": "code",
   "execution_count": 62,
   "metadata": {},
   "outputs": [],
   "source": [
    "learn_lyrics.save('fit_head_lyrics')"
   ]
  },
  {
   "cell_type": "code",
   "execution_count": 69,
   "metadata": {},
   "outputs": [],
   "source": [
    "learn_lyrics.load('fit_head_lyrics');"
   ]
  },
  {
   "cell_type": "markdown",
   "metadata": {},
   "source": [
    "To complete the fine-tuning, we can then unfeeze and launch a new training."
   ]
  },
  {
   "cell_type": "code",
   "execution_count": 70,
   "metadata": {},
   "outputs": [],
   "source": [
    "learn_lyrics.unfreeze()"
   ]
  },
  {
   "cell_type": "code",
   "execution_count": 71,
   "metadata": {},
   "outputs": [
    {
     "data": {
      "text/html": [
       "Total time: 00:21 <p><table style='width:375px; margin-bottom:10px'>\n",
       "  <tr>\n",
       "    <th>epoch</th>\n",
       "    <th>train_loss</th>\n",
       "    <th>valid_loss</th>\n",
       "    <th>accuracy</th>\n",
       "    <th>time</th>\n",
       "  </tr>\n",
       "  <tr>\n",
       "    <th>0</th>\n",
       "    <th>2.978756</th>\n",
       "    <th>3.615579</th>\n",
       "    <th>0.271577</th>\n",
       "    <th>00:03</th>\n",
       "  </tr>\n",
       "  <tr>\n",
       "    <th>1</th>\n",
       "    <th>2.750927</th>\n",
       "    <th>3.790543</th>\n",
       "    <th>0.262128</th>\n",
       "    <th>00:03</th>\n",
       "  </tr>\n",
       "  <tr>\n",
       "    <th>2</th>\n",
       "    <th>2.366141</th>\n",
       "    <th>3.809052</th>\n",
       "    <th>0.262351</th>\n",
       "    <th>00:03</th>\n",
       "  </tr>\n",
       "  <tr>\n",
       "    <th>3</th>\n",
       "    <th>1.943161</th>\n",
       "    <th>3.971256</th>\n",
       "    <th>0.266964</th>\n",
       "    <th>00:03</th>\n",
       "  </tr>\n",
       "  <tr>\n",
       "    <th>4</th>\n",
       "    <th>1.544134</th>\n",
       "    <th>4.060877</th>\n",
       "    <th>0.265551</th>\n",
       "    <th>00:03</th>\n",
       "  </tr>\n",
       "  <tr>\n",
       "    <th>5</th>\n",
       "    <th>1.219733</th>\n",
       "    <th>4.155464</th>\n",
       "    <th>0.263095</th>\n",
       "    <th>00:03</th>\n",
       "  </tr>\n",
       "</table>\n"
      ],
      "text/plain": [
       "<IPython.core.display.HTML object>"
      ]
     },
     "metadata": {},
     "output_type": "display_data"
    }
   ],
   "source": [
    "learn_lyrics.fit_one_cycle(6, 1e-2, moms=(0.8,0.7)) # moms=(0.8,0.7))"
   ]
  },
  {
   "cell_type": "code",
   "execution_count": 18,
   "metadata": {},
   "outputs": [],
   "source": [
    "learn_lyrics.save('fine_tuned_lyrics')"
   ]
  },
  {
   "cell_type": "markdown",
   "metadata": {},
   "source": [
    "How good is our model? Well let's try to see what it predicts after a few given words."
   ]
  },
  {
   "cell_type": "code",
   "execution_count": 19,
   "metadata": {},
   "outputs": [],
   "source": [
    "learn_lyrics.load('fine_tuned_lyrics');"
   ]
  },
  {
   "cell_type": "code",
   "execution_count": 20,
   "metadata": {},
   "outputs": [],
   "source": [
    "TEXT = 'love'# '[\"I\"'#'[\"I\", \n",
    "N_WORDS = 100\n",
    "N_SENTENCES = 1"
   ]
  },
  {
   "cell_type": "code",
   "execution_count": 21,
   "metadata": {},
   "outputs": [],
   "source": [
    "bridge_words = [\"Love\", \"Can\\'t\", \"Day\", \"Eight\", \"ah\", \"When\", \"Help\", \"Nah\", \"I\\'m\", \"That\", \"And\", \"She\", \"Because\", \"Yeah\", \"you\\'re\", \"I\", \"Life\"]\n",
    "verse_words = [\"There\\'s\", \"Something\", \"Nothing\", \"Can\\'t\", \"Ooh\", \"Saw\", \"Here\", \"He\", \"Got\", \"She\", \"Tried\", \"Love\", \"Eleanor\", \"Father\", \"Jo\", \"Sweet\", \"It\\'s\", \"you\", \"you\", \"I\", \"When\", \"Now\", \"Hey\", \"baby\\'s\", \"baby\", \"Oh\", \"Yeah\", \"Lady\", \"When\", \"And\", \"For\", \"I\", \"Love\", \"Dear\", \"It\\'s\", \"If\", \"In\", \"On\", \"Behind\", \"You\", \"I\", \"She\", \"Try\", \"Think\", \"In\", \"And\", \"So\", \"yesterday\", \"As\", \"Suddenly\", \"yesterday\"]\n",
    "chorus_words = [\"all\", \"We\", \"Why\", \"Penny\", \"We\", \"She\", \"I\", \"She\\'s\", \"Don\\'t\", \"We\",\"Paperback\", \"She\", \"Let\", \"Someone\", \"Can\\'t\", \"hold\", \"Come\", \"All\", \"She\", \"Get\", \"Oh\", \"When\", \"Hello\", \"You\", \"I\", \"Help\", \"And\", \"So\", \"I\\'m\", \"She\\'s\", \"I\", \"Tuesday\", \"See\", \"Friday\"]\n",
    "bridge_words = [x.lower() for x in bridge_words]       \n",
    "verse_words = [x.lower() for x in verse_words]\n",
    "chorus_words = [x.lower() for x in chorus_words]\n",
    "import random\n",
    "\n",
    "VERSE = random.choice(verse_words)\n",
    "VERSE2 = random.choice(verse_words)\n",
    "VERSE3 = random.choice(verse_words)\n",
    "CHORUS = random.choice(chorus_words)\n",
    "BRIDGE = random.choice(bridge_words)\n",
    "V_WORDS = 50\n",
    "C_WORDS = 50\n",
    "B_WORDS = 50\n",
    "N_SENTENCES = 1"
   ]
  },
  {
   "cell_type": "code",
   "execution_count": 22,
   "metadata": {},
   "outputs": [
    {
     "name": "stdout",
     "output_type": "stream",
     "text": [
      "dear The Way out ( the way that you shout ) But when i get home with you , i 'm thinking of it You know i 'm gon na be my baby Everybody 's got a baby , yeah , Well you know my\n",
      "friday there is a thing to hide a fool and about the thrill of love . Each one shows you , one , Make you love me for loving me . You know you may be true , But you may be glad . All you\n",
      "dear Though the sun was in the sky , the sky was blue , his sky was blue , City sky was blue , yellow , green , and blue , green , It 's a rich and beautiful thing . You know , here i 'm\n",
      "friday there is a thing to hide a fool and about the thrill of love . Each one shows you , one , Make you love me for loving me . You know you may be true , But you may be glad . All you\n",
      "because a car window shop made a thing to Buy , As they could It 's a feeling i said , i know you 're gon na have a real old boys , If you 're feeling sorry , i ca n't see you again .\n",
      "friday there is a thing to hide a fool and about the thrill of love . Each one shows you , one , Make you love me for loving me . You know you may be true , But you may be glad . All you\n"
     ]
    }
   ],
   "source": [
    "#print(\"\\n\".join(learn.predict(TEXT, N_WORDS, temperature=0.75) for _ in range(N_SENTENCES)))\n",
    "chorus = \"\\n\".join(learn_lyrics.predict(CHORUS, C_WORDS, temperature=0.75) for _ in range(N_SENTENCES))\n",
    "print(\"\\n\".join(learn_lyrics.predict(VERSE, V_WORDS, temperature=0.75) for _ in range(N_SENTENCES)))\n",
    "print(chorus)\n",
    "print(\"\\n\".join(learn_lyrics.predict(VERSE2, V_WORDS, temperature=0.75) for _ in range(N_SENTENCES)))\n",
    "print(chorus)\n",
    "print(\"\\n\".join(learn_lyrics.predict(BRIDGE, B_WORDS, temperature=0.75) for _ in range(N_SENTENCES)))\n",
    "print(chorus)\n",
    "#print(\"\\n\".join(learn.predict(VERSE3, V_WORDS, temperature=0.75) for _ in range(N_SENTENCES)))\n",
    "\n",
    "\n"
   ]
  },
  {
   "cell_type": "markdown",
   "metadata": {},
   "source": [
    "We have to save not only the model, but also its encoder, the part that's responsible for creating and updating the hidden state. For the next part, we don't care about the part that tries to guess the next word."
   ]
  },
  {
   "cell_type": "code",
   "execution_count": 23,
   "metadata": {},
   "outputs": [],
   "source": [
    "learn_lyrics.save_encoder('fine_tuned_enc_lyrics')"
   ]
  },
  {
   "cell_type": "code",
   "execution_count": 24,
   "metadata": {},
   "outputs": [],
   "source": [
    "learn_lyrics.export()"
   ]
  },
  {
   "cell_type": "markdown",
   "metadata": {},
   "source": [
    "## Language model"
   ]
  },
  {
   "cell_type": "markdown",
   "metadata": {},
   "source": [
    "Note that language models can use a lot of GPU, so you may need to decrease batchsize here."
   ]
  },
  {
   "cell_type": "code",
   "execution_count": 50,
   "metadata": {},
   "outputs": [],
   "source": [
    "bs=48"
   ]
  },
  {
   "cell_type": "code",
   "execution_count": 51,
   "metadata": {},
   "outputs": [
    {
     "data": {
      "text/plain": [
       "[PosixPath('/home/ubuntu/course-v3/nbs/dl1/data/beatles/random-train'),\n",
       " PosixPath('/home/ubuntu/course-v3/nbs/dl1/data/beatles/valid-lyrics'),\n",
       " PosixPath('/home/ubuntu/course-v3/nbs/dl1/data/beatles/train-lyrics2'),\n",
       " PosixPath('/home/ubuntu/course-v3/nbs/dl1/data/beatles/export.pkl'),\n",
       " PosixPath('/home/ubuntu/course-v3/nbs/dl1/data/beatles/data_lm_lyrics.pkl'),\n",
       " PosixPath('/home/ubuntu/course-v3/nbs/dl1/data/beatles/data.pkl'),\n",
       " PosixPath('/home/ubuntu/course-v3/nbs/dl1/data/beatles/train'),\n",
       " PosixPath('/home/ubuntu/course-v3/nbs/dl1/data/beatles/train-lyrics'),\n",
       " PosixPath('/home/ubuntu/course-v3/nbs/dl1/data/beatles/models'),\n",
       " PosixPath('/home/ubuntu/course-v3/nbs/dl1/data/beatles/lyrics.pkl'),\n",
       " PosixPath('/home/ubuntu/course-v3/nbs/dl1/data/beatles/.ipynb_checkpoints'),\n",
       " PosixPath('/home/ubuntu/course-v3/nbs/dl1/data/beatles/music.pkl'),\n",
       " PosixPath('/home/ubuntu/course-v3/nbs/dl1/data/beatles/data_lm.pkl'),\n",
       " PosixPath('/home/ubuntu/course-v3/nbs/dl1/data/beatles/train-lyrics-one-file')]"
      ]
     },
     "execution_count": 51,
     "metadata": {},
     "output_type": "execute_result"
    }
   ],
   "source": [
    "path = PosixPath('/home/ubuntu/course-v3/nbs/dl1/data/beatles')\n",
    "path.ls()"
   ]
  },
  {
   "cell_type": "code",
   "execution_count": 52,
   "metadata": {},
   "outputs": [
    {
     "data": {
      "text/plain": [
       "[PosixPath('/home/ubuntu/course-v3/nbs/dl1/data/beatles/train/help.txt'),\n",
       " PosixPath('/home/ubuntu/course-v3/nbs/dl1/data/beatles/train/eleanor-rigby.txt'),\n",
       " PosixPath('/home/ubuntu/course-v3/nbs/dl1/data/beatles/train/something.txt'),\n",
       " PosixPath('/home/ubuntu/course-v3/nbs/dl1/data/beatles/train/day-tripper.txt'),\n",
       " PosixPath('/home/ubuntu/course-v3/nbs/dl1/data/beatles/train/ticket-to-ride.txt'),\n",
       " PosixPath('/home/ubuntu/course-v3/nbs/dl1/data/beatles/train/hello-goodbye.txt'),\n",
       " PosixPath('/home/ubuntu/course-v3/nbs/dl1/data/beatles/train/get-back.txt'),\n",
       " PosixPath('/home/ubuntu/course-v3/nbs/dl1/data/beatles/train/she-loves-you.txt'),\n",
       " PosixPath('/home/ubuntu/course-v3/nbs/dl1/data/beatles/train/lady-madonna.txt'),\n",
       " PosixPath('/home/ubuntu/course-v3/nbs/dl1/data/beatles/train/yesterday.txt'),\n",
       " PosixPath('/home/ubuntu/course-v3/nbs/dl1/data/beatles/train/eight-days-a-week.txt'),\n",
       " PosixPath('/home/ubuntu/course-v3/nbs/dl1/data/beatles/train/love-me-do.txt'),\n",
       " PosixPath('/home/ubuntu/course-v3/nbs/dl1/data/beatles/train/a-hard-days-night.txt'),\n",
       " PosixPath('/home/ubuntu/course-v3/nbs/dl1/data/beatles/train/i-feel-fine.txt'),\n",
       " PosixPath('/home/ubuntu/course-v3/nbs/dl1/data/beatles/train/.ipynb_checkpoints'),\n",
       " PosixPath('/home/ubuntu/course-v3/nbs/dl1/data/beatles/train/paperback-writer.txt'),\n",
       " PosixPath('/home/ubuntu/course-v3/nbs/dl1/data/beatles/train/cant-buy-me-love.txt'),\n",
       " PosixPath('/home/ubuntu/course-v3/nbs/dl1/data/beatles/train/penny-lane.txt'),\n",
       " PosixPath('/home/ubuntu/course-v3/nbs/dl1/data/beatles/train/we-can-work-it-out.txt'),\n",
       " PosixPath('/home/ubuntu/course-v3/nbs/dl1/data/beatles/train/yellow-submarine.txt'),\n",
       " PosixPath('/home/ubuntu/course-v3/nbs/dl1/data/beatles/train/hey-jude.txt'),\n",
       " PosixPath('/home/ubuntu/course-v3/nbs/dl1/data/beatles/train/all-you-need-is-love.txt'),\n",
       " PosixPath('/home/ubuntu/course-v3/nbs/dl1/data/beatles/train/I-want-to-hold-your-hand.txt')]"
      ]
     },
     "execution_count": 52,
     "metadata": {},
     "output_type": "execute_result"
    }
   ],
   "source": [
    "(path/'train').ls()"
   ]
  },
  {
   "cell_type": "code",
   "execution_count": 53,
   "metadata": {},
   "outputs": [],
   "source": [
    "data_lm = (TextList.from_folder(path)\n",
    "           #Inputs: all the text files in path\n",
    "            .filter_by_folder(include=['train']) \n",
    "           #We may have other temp folders that contain text files so we only keep what's in train and test\n",
    "            .split_by_rand_pct(0.1)\n",
    "           #We randomly split and keep 10% (10,000 reviews) for validation\n",
    "            .label_for_lm()           \n",
    "           #We want to do a language model so we label accordingly\n",
    "            .databunch(bs=bs))\n",
    "data_lm.save('data_lm.pkl')"
   ]
  },
  {
   "cell_type": "code",
   "execution_count": 54,
   "metadata": {},
   "outputs": [],
   "source": [
    "data_lm = load_data(path, 'data_lm.pkl', bs=bs)"
   ]
  },
  {
   "cell_type": "code",
   "execution_count": 55,
   "metadata": {},
   "outputs": [
    {
     "data": {
      "text/html": [
       "<table border=\"1\" class=\"dataframe\">\n",
       "  <thead>\n",
       "    <tr style=\"text-align: right;\">\n",
       "      <th>idx</th>\n",
       "      <th>text</th>\n",
       "    </tr>\n",
       "  </thead>\n",
       "  <tbody>\n",
       "    <tr>\n",
       "      <td>0</td>\n",
       "      <td>, 0.5 ] , [ \" iimin \" , \" c \" , 7 , 0.5 ] , [ \" iimin / xxmaj imaj \" , \" c \" , 7 , 1 ] , [ \" iimin / xxmaj imaj \" , \" w \" , 5 , 1 ] , \\n  [ \" bviimaj \" , \" w \" , 10 , 2 ] , [ \"</td>\n",
       "    </tr>\n",
       "    <tr>\n",
       "      <td>1</td>\n",
       "      <td>\" , 4 , 0.5 ] , [ \" bviimaj \" , \" c \" , 2 , 1.5 ] , \\n  [ \" bviimaj \" , \" c \" , 2 , 2 ] , [ \" bviimaj / vimin \" , \" c \" , 2 , 2 ] , \\n  [ \" xxmaj vmaj7 \" , \" w \" , 7 , 1 ] ,</td>\n",
       "    </tr>\n",
       "    <tr>\n",
       "      <td>2</td>\n",
       "      <td>[ \" bviimaj \" , \" c \" , 2 , 1 ] , [ \" bviimaj \" , \" w \" , 5 , 0.5 ] , \\n  [ \" bviimaj \" , \" c \" , 5 , 2 ] , [ \" bviimaj \" , \" c \" , 4 , 0.5 ] , [ \" bviimaj \" , \" c \" , 2 , 1.5</td>\n",
       "    </tr>\n",
       "    <tr>\n",
       "      <td>3</td>\n",
       "      <td>\" , 7 , 0.5 ] , \\n  [ \" bviimaj \" , \" c \" , 7 , 1 ] , [ \" bviimaj \" , \" w \" , 5 , 1 ] , [ \" bviimaj \" , \" w \" , 4 , 0.5 ] , [ \" bviimaj \" , \" c \" , 2 , 1 ] , [ \" bviimaj \" ,</td>\n",
       "    </tr>\n",
       "    <tr>\n",
       "      <td>4</td>\n",
       "      <td>] , \\n  [ \" vimin6 \" , \" c \" , 0 , 0.5 ] , [ \" vimin6 \" , \" c \" , -3 , 1.5 ] , [ \" vimin6 \" , \" n \" , null , 1 ] , [ \" vimin6 \" , \" w \" , -3 , 0.5 ] , [ \" vimin6 \" , \" w \" , 9</td>\n",
       "    </tr>\n",
       "  </tbody>\n",
       "</table>"
      ],
      "text/plain": [
       "<IPython.core.display.HTML object>"
      ]
     },
     "metadata": {},
     "output_type": "display_data"
    }
   ],
   "source": [
    "data_lm.show_batch()"
   ]
  },
  {
   "cell_type": "markdown",
   "metadata": {},
   "source": [
    "We can then put this in a learner object very easily with a model loaded with the pretrained weights. They'll be downloaded the first time you'll execute the following line and stored in `~/.fastai/models/` (or elsewhere if you specified different paths in your config file)."
   ]
  },
  {
   "cell_type": "code",
   "execution_count": 80,
   "metadata": {},
   "outputs": [],
   "source": [
    "learn = language_model_learner(data_lm, AWD_LSTM, drop_mult=0.3)"
   ]
  },
  {
   "cell_type": "code",
   "execution_count": 81,
   "metadata": {},
   "outputs": [
    {
     "data": {
      "text/html": [],
      "text/plain": [
       "<IPython.core.display.HTML object>"
      ]
     },
     "metadata": {},
     "output_type": "display_data"
    },
    {
     "name": "stdout",
     "output_type": "stream",
     "text": [
      "LR Finder is complete, type {learner_name}.recorder.plot() to see the graph.\n"
     ]
    }
   ],
   "source": [
    "learn.lr_find()"
   ]
  },
  {
   "cell_type": "code",
   "execution_count": 82,
   "metadata": {},
   "outputs": [
    {
     "data": {
      "image/png": "[encoded data removed]",
      "text/plain": [
       "<Figure size 432x288 with 1 Axes>"
      ]
     },
     "metadata": {
      "needs_background": "light"
     },
     "output_type": "display_data"
    }
   ],
   "source": [
    "learn.recorder.plot(skip_end=15)"
   ]
  },
  {
   "cell_type": "code",
   "execution_count": 83,
   "metadata": {},
   "outputs": [
    {
     "data": {
      "text/html": [
       "Total time: 00:03 <p><table style='width:375px; margin-bottom:10px'>\n",
       "  <tr>\n",
       "    <th>epoch</th>\n",
       "    <th>train_loss</th>\n",
       "    <th>valid_loss</th>\n",
       "    <th>accuracy</th>\n",
       "    <th>time</th>\n",
       "  </tr>\n",
       "  <tr>\n",
       "    <th>0</th>\n",
       "    <th>1.925745</th>\n",
       "    <th>0.881683</th>\n",
       "    <th>0.794643</th>\n",
       "    <th>00:03</th>\n",
       "  </tr>\n",
       "</table>\n"
      ],
      "text/plain": [
       "<IPython.core.display.HTML object>"
      ]
     },
     "metadata": {},
     "output_type": "display_data"
    }
   ],
   "source": [
    "learn.fit_one_cycle(1, 1e-02, moms=(0.5,0.5)) # moms=(0.4,0.3))"
   ]
  },
  {
   "cell_type": "code",
   "execution_count": 84,
   "metadata": {},
   "outputs": [],
   "source": [
    "learn.save('fit_head')"
   ]
  },
  {
   "cell_type": "code",
   "execution_count": 112,
   "metadata": {},
   "outputs": [],
   "source": [
    "learn.load('fit_head');"
   ]
  },
  {
   "cell_type": "markdown",
   "metadata": {},
   "source": [
    "To complete the fine-tuning, we can then unfeeze and launch a new training."
   ]
  },
  {
   "cell_type": "code",
   "execution_count": 113,
   "metadata": {},
   "outputs": [],
   "source": [
    "learn.unfreeze()"
   ]
  },
  {
   "cell_type": "code",
   "execution_count": 114,
   "metadata": {},
   "outputs": [
    {
     "data": {
      "text/html": [
       "Total time: 00:15 <p><table style='width:375px; margin-bottom:10px'>\n",
       "  <tr>\n",
       "    <th>epoch</th>\n",
       "    <th>train_loss</th>\n",
       "    <th>valid_loss</th>\n",
       "    <th>accuracy</th>\n",
       "    <th>time</th>\n",
       "  </tr>\n",
       "  <tr>\n",
       "    <th>0</th>\n",
       "    <th>0.865443</th>\n",
       "    <th>0.568694</th>\n",
       "    <th>0.838542</th>\n",
       "    <th>00:05</th>\n",
       "  </tr>\n",
       "  <tr>\n",
       "    <th>1</th>\n",
       "    <th>0.650101</th>\n",
       "    <th>0.504369</th>\n",
       "    <th>0.847173</th>\n",
       "    <th>00:04</th>\n",
       "  </tr>\n",
       "  <tr>\n",
       "    <th>2</th>\n",
       "    <th>0.562353</th>\n",
       "    <th>0.538914</th>\n",
       "    <th>0.841518</th>\n",
       "    <th>00:04</th>\n",
       "  </tr>\n",
       "</table>\n"
      ],
      "text/plain": [
       "<IPython.core.display.HTML object>"
      ]
     },
     "metadata": {},
     "output_type": "display_data"
    }
   ],
   "source": [
    "learn.fit_one_cycle(3, 1e-2, moms=(0.7,0.6)) # moms=(0.4,0.3))"
   ]
  },
  {
   "cell_type": "code",
   "execution_count": 39,
   "metadata": {},
   "outputs": [],
   "source": [
    "learn.save('fine_tuned')"
   ]
  },
  {
   "cell_type": "markdown",
   "metadata": {},
   "source": [
    "How good is our model? Well let's try to see what it predicts after a few given words."
   ]
  },
  {
   "cell_type": "code",
   "execution_count": 40,
   "metadata": {},
   "outputs": [],
   "source": [
    "learn.load('fine_tuned');"
   ]
  },
  {
   "cell_type": "code",
   "execution_count": 41,
   "metadata": {},
   "outputs": [],
   "source": [
    "learn.save_encoder('fine_tuned_enc_music')"
   ]
  },
  {
   "cell_type": "code",
   "execution_count": 42,
   "metadata": {},
   "outputs": [],
   "source": [
    "learn.export()"
   ]
  },
  {
   "cell_type": "code",
   "execution_count": 43,
   "metadata": {},
   "outputs": [],
   "source": [
    "N_SENTENCES = 1\n",
    "V = 'xxverse'\n",
    "C = 'xxchorus'\n",
    "B = 'xxbridge'\n",
    "chars_in_group = 10\n",
    "V_WORDS = 32 * chars_in_group\n",
    "C_WORDS = 23 * chars_in_group\n",
    "B_WORDS = 15 * chars_in_group"
   ]
  },
  {
   "cell_type": "code",
   "execution_count": null,
   "metadata": {},
   "outputs": [],
   "source": []
  },
  {
   "cell_type": "code",
   "execution_count": 44,
   "metadata": {},
   "outputs": [],
   "source": [
    "bridge_words = [\"Love\", \"Can\\'t\", \"Day\", \"Eight\", \"ah\", \"When\", \"Help\", \"Nah\", \"I\\'m\", \"That\", \"And\", \"She\", \"Because\", \"Yeah\", \"you\\'re\", \"I\", \"Life\"]\n",
    "verse_words = [\"There\\'s\", \"Something\", \"Nothing\", \"Can\\'t\", \"Ooh\", \"Saw\", \"Here\", \"He\", \"Got\", \"She\", \"Tried\", \"Love\", \"Eleanor\", \"Father\", \"Jo\", \"Sweet\", \"It\\'s\", \"you\", \"you\", \"I\", \"When\", \"Now\", \"Hey\", \"baby\\'s\", \"baby\", \"Oh\", \"Yeah\", \"Lady\", \"When\", \"And\", \"For\", \"I\", \"Love\", \"Dear\", \"It\\'s\", \"If\", \"In\", \"On\", \"Behind\", \"You\", \"I\", \"She\", \"Try\", \"Think\", \"In\", \"And\", \"So\", \"yesterday\", \"As\", \"Suddenly\", \"yesterday\"]\n",
    "chorus_words = [\"all\", \"We\", \"Why\", \"Penny\", \"We\", \"She\", \"I\", \"She\\'s\", \"Don\\'t\", \"We\",\"Paperback\", \"She\", \"Let\", \"Someone\", \"Can\\'t\", \"hold\", \"Come\", \"All\", \"She\", \"Get\", \"Oh\", \"When\", \"Hello\", \"You\", \"I\", \"Help\", \"And\", \"So\", \"I\\'m\", \"She\\'s\", \"I\", \"Tuesday\", \"See\", \"Friday\"]\n",
    "bridge_words = [x.lower() for x in bridge_words]       \n",
    "verse_words = [x.lower() for x in verse_words]\n",
    "chorus_words = [x.lower() for x in chorus_words]\n",
    "\n",
    "\n",
    "VERSE_start = random.choice(verse_words)\n",
    "VERSE2_start = random.choice(verse_words)\n",
    "VERSE3_start = random.choice(verse_words)\n",
    "CHORUS_start = random.choice(chorus_words)\n",
    "BRIDGE_start = random.choice(bridge_words)"
   ]
  },
  {
   "cell_type": "code",
   "execution_count": 45,
   "metadata": {},
   "outputs": [],
   "source": [
    "#print(\"\\n\".join(learn.predict(TEXT, N_WORDS, temperature=0.75) for _ in range(N_SENTENCES)))\n",
    "chorus_lyrics = \"\".join(learn_lyrics.predict(CHORUS_start, C_WORDS, temperature=0.75))\n",
    "verse_lyrics = \"\".join(learn_lyrics.predict(VERSE_start, V_WORDS, temperature=0.75))\n",
    "verse2_lyrics = \"\".join(learn_lyrics.predict(VERSE2_start, V_WORDS, temperature=0.75))\n",
    "\n",
    "bridge_lyrics = \"\".join(learn_lyrics.predict(BRIDGE_start, B_WORDS, temperature=0.75))\n",
    "\n",
    "\n",
    "\n"
   ]
  },
  {
   "cell_type": "code",
   "execution_count": 46,
   "metadata": {},
   "outputs": [],
   "source": [
    "def remove_stray_quote_marks(string):\n",
    "    new_string = string.replace(\"'\", '')\n",
    "    return new_string.replace('\"', '')"
   ]
  },
  {
   "cell_type": "code",
   "execution_count": 47,
   "metadata": {},
   "outputs": [],
   "source": [
    "cleaned_chorus_lyrics = remove_stray_quote_marks(chorus_lyrics)\n",
    "cleaned_verse_lyrics = remove_stray_quote_marks(verse_lyrics)\n",
    "cleaned_verse2_lyrics = remove_stray_quote_marks(verse2_lyrics)\n",
    "cleaned_bridge_lyrics = remove_stray_quote_marks(bridge_lyrics)\n",
    "\n"
   ]
  },
  {
   "cell_type": "code",
   "execution_count": 48,
   "metadata": {},
   "outputs": [],
   "source": [
    "chorus_lyrics_split = shlex.split(cleaned_chorus_lyrics)\n",
    "cls = cleaned_chorus_lyrics.split()\n",
    "verse_lyrics_split = shlex.split(cleaned_verse_lyrics)\n",
    "verse2_lyrics_split = shlex.split(cleaned_verse2_lyrics)\n",
    "bridge_lyrics_split = shlex.split(cleaned_bridge_lyrics)"
   ]
  },
  {
   "cell_type": "code",
   "execution_count": 49,
   "metadata": {},
   "outputs": [
    {
     "name": "stdout",
     "output_type": "stream",
     "text": [
      "['she', ',', 'The', 'key', 'for', 'a', 'woman', 'that', 'Come', 'on', 'is', 'shake', 'it', 'Come', 'on', 'and', 'come', 'on', ',', 'come', 'on', ',', 'come', 'on', 'Come', 'on', 'is', 'such', 'a', 'joy', 'Come', 'on', 'is', 'such', 'a', 'joy', 'Come', 'on', 'is', 'such', 'a', 'joy', 'Come', 'on', 'is', 'such', 'a', 'joy', 'Come', 'on', 'is', 'such', 'a', 'joy', 'Come', 'on', 'take', 'it', 'easy', 'Come', 'on', 'is', 'such', 'a', 'joy', 'Come', 'on', 'is', 'such', 'a', 'joy', 'Come', 'on', 'take', 'it', 'easy', ',', 'come', 'on', ',', 'come', 'on', ',', 'Come', 'on', 'is', 'such', 'a', 'joy', 'Come', 'on', 'take', 'it', 'easy', ',', 'it', 's', 'such', 'a', 'joy', 'Come', 'on', 'is', 'such', 'a', 'joy', 'Come', 'on', 'take', 'it', 'easy', 'Come', 'on', 'take', 'it', 'easy', '.', 'They', 'sit', 'at', 'you', 'and', 'fly', ',', 'Come', 'on', 'is', 'such', 'a', 'joy', 'Come', 'on', 'take', 'it', 'easy', ',', 'take', 'it', 'easy', 'Come', 'on', 'take', 'it', 'easy', 'Come', 'on', 'take', 'it', 'easy', ',', 'take', 'it', 'easy', 'Come', 'on', 'take', 'it', 'easy', '.', 'Come', 'on', 'come', 'on', 'come', 'on', 'come', 'on', ',', 'come', 'on', 'and', 'come', 'on', '.', 'Come', 'on', 'take', 'it', 'easy', ',', 'take', 'it', 'easy', 'Come', 'on', 'take', 'it', 'easy', '.', 'Come', 'on', 'little', 'baby', 'go', 'go', 'go', '!', 'Go', 'go', 'go', 'little']\n"
     ]
    }
   ],
   "source": [
    "print(chorus_lyrics_split)"
   ]
  },
  {
   "cell_type": "code",
   "execution_count": 50,
   "metadata": {},
   "outputs": [
    {
     "name": "stdout",
     "output_type": "stream",
     "text": [
      "['you', 'think', 'in', 'of', 'his', 'life', 'Evrything', 'has', 'been', 'like', 'having', 'been', 'realised', ',', 'For', 'at', 'nine', 'o', 'and', 'i', 'my', 'mind', 'is', 'in', 'light', 'Evrything', 'has', 'been', 'set', 'upon', 'my', 'mind', '.', 'Evrything', 'has', 'got', 'to', 'bring', 'down', 'though', 'my', 'evrything', 'has', 'been', 'right', 'I', 'm', 'so', 'sorry', 'i', 'know', 'that', 'i', 'm', 'lying', 'there', ',', 'i', 'm', 'there', 'Tell', 'me', 'why', 'i', 'm', 'far', 'apart', 'from', 'me', '.', 'Do', 'nt', 'let', 'me', 'know', 'why', 'you', 'cried', ',', 'When', 'i', 'saw', 'you', 'standing', 'there', ',', 'i', 'm', 'gon', 'na', 'walk', 'right', 'into', 'my', 'head', '.', 'Crying', ',', 'crying', ',', 'waiting', ',', 'hoping', ',', 'hoping', ',', 'hoping', ',', 'you', 'll', 'understand', ',', 'Please', 'll', 'be', 'all', 'right', ',', 'crying', ',', 'crying', ',', 'waiting', ',', 'hoping', ',', 'hoping', ',', 'you', 'll', 'meet', ',', 'i', 've', 'been', 'here', ',', 'i', 'll', 'be', 'here', '.', 'My', 'mind', ',', 'i', 'm', 'gon', 'na', 'sit', 'right', 'down', 'and', 'cry', 'over', 'you', '.', 'You', 've', 'got', 'me', 'too', 'crying', '.', 'i', 'm', 'gon', 'na', 'laugh', ',', 'i', 'm', 'gon', 'na', 'sit', 'right', 'down', 'and', 'cry', 'over', 'you', '.', 'Well', 'i', 'm', 'so', 'crying', ',', 'crying', ',', 'crying', ',', 'crying', ',', 'waiting', ',', 'hoping', ',', 'you', 'll', 'come', 'back', ',', 'i', 'll', 'make', 'you', 'look', 'a', '-', 'there', '.', 'Once', ',', 'i', 'll', 'be', 'there', ',', 'i', 've', 'got', 'the', 'hope', ',', 'i', 'll', 'begin', 'the', 'sea', 'in', 'an', 'octopus', 's', 'garden', '.', 'Look', 'at', 'you', 'all', 'the', 'time', '.', 'It', 's', 'time', 'for', 'me', 'to', 'feel', 'so', 'fine', '.', 'You', 're', 'so', 'happy', 'when', 'you', 'see', 'me', '.', 'Ooh', 'yeah', 'Yeah', 'i', 'm', 'gon', 'na', 'see', 'you', 'again', '.', 'Well', ',', 'i', 'told', 'you', 'all', 'night', 'long', '.', 'Well', 'in', 'my', 'mind', 'i', 'm', 'gon', 'na', 'walk', 'down', 'Street', 'far', 'away', ',', 'For', 'me']\n",
      "['she', ',', 'The', 'key', 'for', 'a', 'woman', 'that', 'Come', 'on', 'is', 'shake', 'it', 'Come', 'on', 'and', 'come', 'on', ',', 'come', 'on', ',', 'come', 'on', 'Come', 'on', 'is', 'such', 'a', 'joy', 'Come', 'on', 'is', 'such', 'a', 'joy', 'Come', 'on', 'is', 'such', 'a', 'joy', 'Come', 'on', 'is', 'such', 'a', 'joy', 'Come', 'on', 'is', 'such', 'a', 'joy', 'Come', 'on', 'take', 'it', 'easy', 'Come', 'on', 'is', 'such', 'a', 'joy', 'Come', 'on', 'is', 'such', 'a', 'joy', 'Come', 'on', 'take', 'it', 'easy', ',', 'come', 'on', ',', 'come', 'on', ',', 'Come', 'on', 'is', 'such', 'a', 'joy', 'Come', 'on', 'take', 'it', 'easy', ',', 'it', 's', 'such', 'a', 'joy', 'Come', 'on', 'is', 'such', 'a', 'joy', 'Come', 'on', 'take', 'it', 'easy', 'Come', 'on', 'take', 'it', 'easy', '.', 'They', 'sit', 'at', 'you', 'and', 'fly', ',', 'Come', 'on', 'is', 'such', 'a', 'joy', 'Come', 'on', 'take', 'it', 'easy', ',', 'take', 'it', 'easy', 'Come', 'on', 'take', 'it', 'easy', 'Come', 'on', 'take', 'it', 'easy', ',', 'take', 'it', 'easy', 'Come', 'on', 'take', 'it', 'easy', '.', 'Come', 'on', 'come', 'on', 'come', 'on', 'come', 'on', ',', 'come', 'on', 'and', 'come', 'on', '.', 'Come', 'on', 'take', 'it', 'easy', ',', 'take', 'it', 'easy', 'Come', 'on', 'take', 'it', 'easy', '.', 'Come', 'on', 'little', 'baby', 'go', 'go', 'go', '!', 'Go', 'go', 'go', 'little']\n",
      "['dear', 'The', 'Sea', 'Ticket', 's', 'In', 'the', 'English', 'of', 'the', 'USSR', '.', 'The', 'rain', 'side', 'makes', 'all', 'the', 'lonely', 'people', '.', 'Crying', ',', 'crying', ',', 'waiting', ',', 'waiting', ',', 'hoping', ',', 'you', 'll', 'come', 'back', '.', 'All', 'the', 'lonely', 'people', '.', 'You', 'know', 'i', 'm', 'gon', 'na', 'walk', 'and', 'walk', 'over', ',', 'i', 'm', 'gon', 'na', 'sit', 'right', 'down', 'and', 'walk', 'down', 'and', 'walk', 'over', ',', 'But', 'i', 'm', 'by', 'you', 'i', 'm', 'gon', 'na', 'walk', 'right', 'right', 'over', 'and', 'i', 'ca', 'nt', 'break', 'past', 'the', 'trees', '.', 'Look', 'up', 'the', 'sun', ',', 'i', 'm', 'the', 'sun', '.', 'And', 'if', 'the', 'sun', 'comes', 'up', ',', 'you', 've', 'got', 'to', 'drive', 'it', 'Come', 'on', ',', 'come', 'on', ',', 'come', 'on', ',', 'take', 'it', 'easy', '.', 'Wo', 'nt', 'you', 'let', 'me', 'down', 'If', 'you', 'want', 'me', 'to', 'do', 'Well', ',', 'i', 'told', 'you', 'so', 'many', 'promising', 'lies', '.', 'i', 'told', 'you', 'about', 'the', 'love', 'that', 'we', 'once', 'had', '.', 'So', 'if', 'you', 'ca', 'nt', 'be', 'around', ',', 'you', 're', 'going', 'to', 'lose', 'that', 'girl', '.', 'You', 'know', 'it', 's', 'a', 'shame', 'My', 'Bonnie', ',', 'i', 'never', 'ever', 'knew', 'how', 'much', 'i', 'knew', 'you', '.', 'When', 'i', 'saw', 'you', 'standing', 'there', 'There', 'was', 'a', 'way', 'to', 'get', 'you', 'back', '.', 'If', 'you', 'ever', 'even', 'try', 'i', 'm', 'gon', 'na', 'walk', 'right', 'down', 'the', 'street', '.', 'You', 'say', 'you', 're', 'the', 'kind', 'of', 'man', '.', 'Do', 'nt', 'you', 'know', 'why', 'you', 'cried', ',', 'You', 'know', 'you', 're', 'gon', 'na', 'find', 'my', 'baby', ',', 'do', 'nt', 'you', 'know', 'you', 're', 'looking', 'like', 'you', '?', 'You', 'were', 'right', 'now', ',', 'you', 'know', ',', 'you', 'know', ',', 'you', 'know', 'i', 'know', 'you', 'know', 'that', 'you', 'know', 'that', 'you', 'love', 'me', 'so', 'fine', '.', 'You', 'know', 'i', 'know', 'it', 's']\n",
      "['she', ',', 'The', 'key', 'for', 'a', 'woman', 'that', 'Come', 'on', 'is', 'shake', 'it', 'Come', 'on', 'and', 'come', 'on', ',', 'come', 'on', ',', 'come', 'on', 'Come', 'on', 'is', 'such', 'a', 'joy', 'Come', 'on', 'is', 'such', 'a', 'joy', 'Come', 'on', 'is', 'such', 'a', 'joy', 'Come', 'on', 'is', 'such', 'a', 'joy', 'Come', 'on', 'is', 'such', 'a', 'joy', 'Come', 'on', 'take', 'it', 'easy', 'Come', 'on', 'is', 'such', 'a', 'joy', 'Come', 'on', 'is', 'such', 'a', 'joy', 'Come', 'on', 'take', 'it', 'easy', ',', 'come', 'on', ',', 'come', 'on', ',', 'Come', 'on', 'is', 'such', 'a', 'joy', 'Come', 'on', 'take', 'it', 'easy', ',', 'it', 's', 'such', 'a', 'joy', 'Come', 'on', 'is', 'such', 'a', 'joy', 'Come', 'on', 'take', 'it', 'easy', 'Come', 'on', 'take', 'it', 'easy', '.', 'They', 'sit', 'at', 'you', 'and', 'fly', ',', 'Come', 'on', 'is', 'such', 'a', 'joy', 'Come', 'on', 'take', 'it', 'easy', ',', 'take', 'it', 'easy', 'Come', 'on', 'take', 'it', 'easy', 'Come', 'on', 'take', 'it', 'easy', ',', 'take', 'it', 'easy', 'Come', 'on', 'take', 'it', 'easy', '.', 'Come', 'on', 'come', 'on', 'come', 'on', 'come', 'on', ',', 'come', 'on', 'and', 'come', 'on', '.', 'Come', 'on', 'take', 'it', 'easy', ',', 'take', 'it', 'easy', 'Come', 'on', 'take', 'it', 'easy', '.', 'Come', 'on', 'little', 'baby', 'go', 'go', 'go', '!', 'Go', 'go', 'go', 'little']\n",
      "['life', 'from', 'the', 'Cold', 'War', 'of', 'the', 'End', 'of', 'the', 'world', 'is', 'not', 'as', 'hard', 'as', 'the', 'rest', 'of', 'World', 'Sky', '.', 'The', 'world', 'is', 'broken', 'and', 'the', 'sun', 'is', 'blue', '.', 'All', 'the', 'world', 'is', 'dead', ',', 'all', 'together', '.', 'All', 'people', 'need', 'loving', ',', 'some', 'people', ',', 'where', 'they', 'are', '.', 'All', 'the', 'lonely', 'people', ',', 'where', 'you', 'are', '.', 'All', 'you', 'need', 'is', 'love', ',', 'all', 'you', 'need', 'is', 'love', ',', 'All', 'you', 've', 'got', 'ta', 'do', 'is', 'love', 'me', 'all', 'alone', ',', 'You', 'know', 'i', 'love', 'you', ',', 'You', 'know', 'you', 'know', 'i', 'love', 'you', '.', 'Please', 'do', 'nt', 'you', 'know', 'that', 'you', 'know', 'what', 'to', 'do', '.', 'You', 'know', 'the', 'reason', 'why', ',', 'In', 'my', 'life', 'i', 'love', 'you', ',', 'and', 'you', 'know', 'my', 'love', 'is', 'so', 'hard', 'to', 'know']\n"
     ]
    }
   ],
   "source": [
    "print(verse_lyrics_split)\n",
    "print(chorus_lyrics_split)\n",
    "print(verse2_lyrics_split)\n",
    "print(chorus_lyrics_split)\n",
    "print(bridge_lyrics_split)\n"
   ]
  },
  {
   "cell_type": "code",
   "execution_count": null,
   "metadata": {},
   "outputs": [],
   "source": []
  },
  {
   "cell_type": "code",
   "execution_count": null,
   "metadata": {},
   "outputs": [],
   "source": []
  },
  {
   "cell_type": "code",
   "execution_count": null,
   "metadata": {},
   "outputs": [],
   "source": []
  },
  {
   "cell_type": "code",
   "execution_count": null,
   "metadata": {},
   "outputs": [],
   "source": []
  },
  {
   "cell_type": "code",
   "execution_count": 51,
   "metadata": {},
   "outputs": [],
   "source": [
    "keys = ['a', 'b', 'c', 'd', 'e', 'f', 'g']\n",
    "key_weights = [4 / 22, 1 / 22, 3 / 22, 2 / 22, 1 / 22, 2 / 22, 9 / 22 ]\n",
    "key = random.choices(\n",
    "         population=keys,\n",
    "         weights=key_weights,\n",
    "         k=1)\n",
    "key = key[0]"
   ]
  },
  {
   "cell_type": "code",
   "execution_count": 52,
   "metadata": {},
   "outputs": [],
   "source": [
    "tempos = [138, 98, 120, 102, 125, 65, 72, 112, 150, 165, 108, 138, 70, 78, 94, 99, 123, 138, 138, 137, 171, 100]\n",
    "tempo = random.choice(tempos)"
   ]
  },
  {
   "cell_type": "code",
   "execution_count": 53,
   "metadata": {},
   "outputs": [],
   "source": [
    "def clean_line(line):\n",
    "    start = line.find('[')\n",
    "    clean_start = line[start:]\n",
    "    clean_end = ']'.join(clean_start.split(']')[:-1]) + ']'\n",
    "    return clean_end"
   ]
  },
  {
   "cell_type": "code",
   "execution_count": 54,
   "metadata": {},
   "outputs": [],
   "source": [
    "response_obj = {\n",
    "    'tempo': tempo,\n",
    "    'key': key,\n",
    "    'verse_one': [],\n",
    "    'verse_two': [],\n",
    "    'verse_three': [],\n",
    "    'chorus': [],\n",
    "    'bridge': []\n",
    "}"
   ]
  },
  {
   "cell_type": "code",
   "execution_count": 55,
   "metadata": {},
   "outputs": [],
   "source": [
    "def make_chords_readable(chord):\n",
    "    lower_chord = chord.lower().strip()\n",
    "    chord_list = {\n",
    "        'isus': 'Isus',\n",
    "        'i6': 'I6',\n",
    "        'imaj': 'I',\n",
    "        'imaj7': 'I7',\n",
    "        'imaj / viidim': 'I/vii',\n",
    "        'imin': 'i',\n",
    "        'iimaj': 'II',\n",
    "        'iimaj7': 'II7',\n",
    "        'iimin': 'ii',\n",
    "        'iimin7': 'ii7',\n",
    "        'biiimaj': 'bIII',\n",
    "        'iiimin': 'iii',\n",
    "        'iiimin7': 'iii7',\n",
    "        'iiimaj': 'III',\n",
    "        'iiimaj7': 'III7',\n",
    "        'ivmaj': 'IV',\n",
    "        'ivmaj7': 'IV7',\n",
    "        'ivmaj / vmaj': 'IV/V',\n",
    "        'ivmin': 'iv',\n",
    "        'vmaj': 'V',\n",
    "        'vmaj7': 'V7',\n",
    "        'bvimaj': 'bVI',\n",
    "        'vimin': 'vi',\n",
    "        'vimin7': 'vi7',\n",
    "        'vimin / vmaj': 'vi/V',\n",
    "        'bviimaj': 'VII',\n",
    "        'xxbridge': 'I',\n",
    "        'w': 'IV',\n",
    "        'n': 'V',\n",
    "        'c': 'iv'\n",
    "    }\n",
    "    return chord_list[lower_chord]"
   ]
  },
  {
   "cell_type": "code",
   "execution_count": 56,
   "metadata": {},
   "outputs": [],
   "source": [
    "def simplify_chords(piece_str):\n",
    "    piece_list = json.loads(piece_str)\n",
    "    mod_piece_list = []\n",
    "    for i, piece in enumerate(piece_list):\n",
    "        chord = make_chords_readable(piece[0])\n",
    "        new_piece = []\n",
    "        new_piece.append(chord)\n",
    "        new_piece.extend([piece[1], piece[2], piece[3]])\n",
    "        mod_piece_list.append(new_piece)\n",
    "    return mod_piece_list"
   ]
  },
  {
   "cell_type": "code",
   "execution_count": 59,
   "metadata": {},
   "outputs": [],
   "source": [
    "# TODO: determine how many bars are in most choruses, verses etc \n",
    "# and then make sure the total length of all song parts is divisible by 4\n",
    "#TODO: remove excess white space between everything\n",
    "verse_str = clean_line(\"\".join(learn.predict(V, V_WORDS, temperature=0.75)))\n",
    "chorus_str = clean_line(\"\".join(learn.predict(C, C_WORDS, temperature=0.75)))\n",
    "bridge_str = clean_line(\"\".join(learn.predict(B, B_WORDS, temperature=0.75)))\n",
    "#print(verse)\n"
   ]
  },
  {
   "cell_type": "code",
   "execution_count": 60,
   "metadata": {},
   "outputs": [],
   "source": [
    "verse = simplify_chords('['+ verse_str + ']')\n",
    "chorus = simplify_chords('['+ chorus_str + ']')\n",
    "bridge = simplify_chords('['+ bridge_str + ']')"
   ]
  },
  {
   "cell_type": "code",
   "execution_count": null,
   "metadata": {},
   "outputs": [],
   "source": [
    "print(verse)\n",
    "print(chorus)\n",
    "print(bridge)"
   ]
  },
  {
   "cell_type": "code",
   "execution_count": 61,
   "metadata": {},
   "outputs": [],
   "source": [
    "## THIS STEP IS WHERE I PUT LYRICS INTO\n",
    "#print(verse)\n",
    "# FIX changing original thing in place\n",
    "def replace_w_with_word(part_of_song, part_of_song_lyrics):\n",
    "    new_part_of_song = part_of_song\n",
    "    new_part_of_song_lyrics = part_of_song_lyrics\n",
    "    for i, grouping in enumerate(new_part_of_song):\n",
    "        if grouping[1] == ' w ':\n",
    "            grouping[1] = new_part_of_song_lyrics[i]\n",
    "    print(new_part_of_song)\n",
    "    return new_part_of_song"
   ]
  },
  {
   "cell_type": "code",
   "execution_count": null,
   "metadata": {},
   "outputs": [],
   "source": [
    "print(chorus)"
   ]
  },
  {
   "cell_type": "code",
   "execution_count": null,
   "metadata": {},
   "outputs": [],
   "source": []
  },
  {
   "cell_type": "code",
   "execution_count": 62,
   "metadata": {},
   "outputs": [
    {
     "name": "stdout",
     "output_type": "stream",
     "text": [
      "[['I', ' n ', None, 2], ['I', 'think', -5, 0.5], ['I', 'in', 2, 1], ['I', 'of', 2, 0.5], ['I', 'his', 0, 0.5], ['I', 'life', -5, 0.33], ['I', 'Evrything', 0, 0.5], ['V', 'has', 0, 1.5], ['V', 'been', None, 2], ['V', 'like', 4, 0.5], ['V', 'having', 0, 1], ['V', 'been', 2, 0.5], ['V', 'realised', 2, 0.25], ['I', ' c ', 0, 0.5], ['I', 'For', 0, 1], ['I', 'at', 0, 0.5], ['IV', 'nine', 4, 0.25], ['IV', ' c ', 2, 0.5], ['IV', 'and', 2, 0.5], ['IV', 'i', 0, 0.5], ['IV', ' c ', 0, 0.5]]\n",
      "[['I', ' n ', None, 2], ['I', 'think', -5, 0.5], ['I', 'in', 2, 1], ['I', 'of', 2, 0.5], ['I', 'his', 0, 0.5], ['I', 'life', -5, 0.33], ['I', 'Evrything', 0, 0.5], ['V', 'has', 0, 1.5], ['V', 'been', None, 2], ['V', 'like', 4, 0.5], ['V', 'having', 0, 1], ['V', 'been', 2, 0.5], ['V', 'realised', 2, 0.25], ['I', ' c ', 0, 0.5], ['I', 'For', 0, 1], ['I', 'at', 0, 0.5], ['IV', 'nine', 4, 0.25], ['IV', ' c ', 2, 0.5], ['IV', 'and', 2, 0.5], ['IV', 'i', 0, 0.5], ['IV', ' c ', 0, 0.5]]\n",
      "[['I', 'she', 4, 0.5], ['I', ',', 5, 0.5], ['I', ' n ', None, 2.5], ['I', ' c ', 4, 0.5], ['I', 'for', 5, 0.5], ['I', 'a', 7, 0.5], ['I', ' c ', 4, 0.5], ['I', 'that', 4, 0.5], ['I', 'Come', 5, 0.5], ['I', 'on', 7, 1], ['I', 'is', 16, 0.5], ['I', 'shake', 9, 0.5], ['I', 'it', 4, 0.5], ['I', ' c ', 4, 0.5], ['I', 'on', 5, 0.5]]\n",
      "[['I', 'life', 0, 1], ['I', 'from', 0, 0.5], ['I', 'the', 0, 0.5], ['I', 'Cold', 0, 1], ['I', 'War', 0, 1], ['I', 'of', 0, 0.5], ['I', 'the', 4, 0.5], ['I', 'End', 0, 1], ['I', 'of', 0, 1]]\n"
     ]
    }
   ],
   "source": [
    "verse_1_complete = replace_w_with_word(verse, verse_lyrics_split)\n",
    "verse_2_complete = replace_w_with_word(verse, verse2_lyrics_split)\n",
    "chorus_complete = replace_w_with_word(chorus, chorus_lyrics_split)\n",
    "bridge_complete = replace_w_with_word(bridge, bridge_lyrics_split)"
   ]
  },
  {
   "cell_type": "code",
   "execution_count": null,
   "metadata": {},
   "outputs": [],
   "source": [
    "print(verse_1_complete)\n",
    "print(verse_2_complete)\n",
    "print(chorus_complete)\n",
    "print(bridge_complete)"
   ]
  },
  {
   "cell_type": "code",
   "execution_count": 63,
   "metadata": {},
   "outputs": [],
   "source": [
    "response_obj['verse_one'] = verse_1_complete\n",
    "response_obj['verse_two'] = verse_2_complete\n",
    "response_obj['chorus'] = chorus_complete\n",
    "response_obj['bridge'] = bridge_complete\n",
    "\n"
   ]
  },
  {
   "cell_type": "code",
   "execution_count": 64,
   "metadata": {},
   "outputs": [
    {
     "name": "stdout",
     "output_type": "stream",
     "text": [
      "{\"tempo\": 138, \"key\": \"d\", \"verse_one\": [[\"I\", \" n \", null, 2], [\"I\", \"think\", -5, 0.5], [\"I\", \"in\", 2, 1], [\"I\", \"of\", 2, 0.5], [\"I\", \"his\", 0, 0.5], [\"I\", \"life\", -5, 0.33], [\"I\", \"Evrything\", 0, 0.5], [\"V\", \"has\", 0, 1.5], [\"V\", \"been\", null, 2], [\"V\", \"like\", 4, 0.5], [\"V\", \"having\", 0, 1], [\"V\", \"been\", 2, 0.5], [\"V\", \"realised\", 2, 0.25], [\"I\", \" c \", 0, 0.5], [\"I\", \"For\", 0, 1], [\"I\", \"at\", 0, 0.5], [\"IV\", \"nine\", 4, 0.25], [\"IV\", \" c \", 2, 0.5], [\"IV\", \"and\", 2, 0.5], [\"IV\", \"i\", 0, 0.5], [\"IV\", \" c \", 0, 0.5]], \"verse_two\": [[\"I\", \" n \", null, 2], [\"I\", \"think\", -5, 0.5], [\"I\", \"in\", 2, 1], [\"I\", \"of\", 2, 0.5], [\"I\", \"his\", 0, 0.5], [\"I\", \"life\", -5, 0.33], [\"I\", \"Evrything\", 0, 0.5], [\"V\", \"has\", 0, 1.5], [\"V\", \"been\", null, 2], [\"V\", \"like\", 4, 0.5], [\"V\", \"having\", 0, 1], [\"V\", \"been\", 2, 0.5], [\"V\", \"realised\", 2, 0.25], [\"I\", \" c \", 0, 0.5], [\"I\", \"For\", 0, 1], [\"I\", \"at\", 0, 0.5], [\"IV\", \"nine\", 4, 0.25], [\"IV\", \" c \", 2, 0.5], [\"IV\", \"and\", 2, 0.5], [\"IV\", \"i\", 0, 0.5], [\"IV\", \" c \", 0, 0.5]], \"verse_three\": [], \"chorus\": [[\"I\", \"she\", 4, 0.5], [\"I\", \",\", 5, 0.5], [\"I\", \" n \", null, 2.5], [\"I\", \" c \", 4, 0.5], [\"I\", \"for\", 5, 0.5], [\"I\", \"a\", 7, 0.5], [\"I\", \" c \", 4, 0.5], [\"I\", \"that\", 4, 0.5], [\"I\", \"Come\", 5, 0.5], [\"I\", \"on\", 7, 1], [\"I\", \"is\", 16, 0.5], [\"I\", \"shake\", 9, 0.5], [\"I\", \"it\", 4, 0.5], [\"I\", \" c \", 4, 0.5], [\"I\", \"on\", 5, 0.5]], \"bridge\": [[\"I\", \"life\", 0, 1], [\"I\", \"from\", 0, 0.5], [\"I\", \"the\", 0, 0.5], [\"I\", \"Cold\", 0, 1], [\"I\", \"War\", 0, 1], [\"I\", \"of\", 0, 0.5], [\"I\", \"the\", 4, 0.5], [\"I\", \"End\", 0, 1], [\"I\", \"of\", 0, 1]]}\n"
     ]
    }
   ],
   "source": [
    "j= json.dumps(response_obj)\n",
    "print(j)"
   ]
  },
  {
   "cell_type": "code",
   "execution_count": null,
   "metadata": {},
   "outputs": [],
   "source": [
    "# TODO: add in lyrics\n",
    "# TODO: create server, first in flask, then in fastapi?\n",
    "# add functionality to change key, tempo, and save on front end\n",
    "# create front end and make it able to play twice"
   ]
  },
  {
   "cell_type": "markdown",
   "metadata": {},
   "source": [
    "We have to save not only the model, but also its encoder, the part that's responsible for creating and updating the hidden state. For the next part, we don't care about the part that tries to guess the next word."
   ]
  },
  {
   "cell_type": "code",
   "execution_count": null,
   "metadata": {},
   "outputs": [],
   "source": []
  },
  {
   "cell_type": "code",
   "execution_count": null,
   "metadata": {},
   "outputs": [],
   "source": []
  },
  {
   "cell_type": "code",
   "execution_count": null,
   "metadata": {},
   "outputs": [],
   "source": []
  }
 ],
 "metadata": {
  "kernelspec": {
   "display_name": "pytorch_fastai",
   "language": "python",
   "name": "python3"
  },
  "language_info": {
   "codemirror_mode": {
    "name": "ipython",
    "version": 3
   },
   "file_extension": ".py",
   "mimetype": "text/x-python",
   "name": "python",
   "nbconvert_exporter": "python",
   "pygments_lexer": "ipython3",
   "version": "3.7.1"
  }
 },
 "nbformat": 4,
 "nbformat_minor": 2
}
